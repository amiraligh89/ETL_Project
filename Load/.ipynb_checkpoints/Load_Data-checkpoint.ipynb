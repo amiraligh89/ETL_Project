{
 "cells": [
  {
   "cell_type": "code",
   "execution_count": 1,
   "metadata": {},
   "outputs": [],
   "source": [
    "from sqlalchemy import create_engine, ForeignKey, MetaData\n",
    "from sqlalchemy import Table, Column, Date, Integer, String, Float\n",
    "from sqlalchemy.ext.declarative import declarative_base\n",
    "from sqlalchemy.orm import Session\n",
    "import os\n",
    "import pandas as pd"
   ]
  },
  {
   "cell_type": "code",
   "execution_count": 2,
   "metadata": {},
   "outputs": [],
   "source": [
    "database_path = os.path.join('Retail_Industry_Health_DB.sqlite')\n",
    "loadpath = os.path.join('.')\n",
    "naics_load = os.path.join(loadpath,'naics.csv')\n"
   ]
  },
  {
   "cell_type": "code",
   "execution_count": 3,
   "metadata": {},
   "outputs": [],
   "source": [
    "# Establishe a link to the sqlite database (creating it if necessary)\n",
    "engine = create_engine(f\"sqlite:///{database_path}\")\n",
    "conn = engine.connect()\n",
    "Base = declarative_base()\n",
    "\n",
    "# Create our session (link) from Python to the DB\n",
    "session = Session(bind=engine)"
   ]
  },
  {
   "cell_type": "code",
   "execution_count": 4,
   "metadata": {},
   "outputs": [],
   "source": [
    "\n",
    "conn.execute('DROP TABLE IF EXISTS NAICS_Info;')\n",
    "conn.execute('CREATE TABLE NAICS_Info (NAICS_Code VARCHAR(15) NOT NULL,Industry_Title VARCHAR(150) NOT NULL, Num_Businesses BIGINT  NOT NULL);')\n",
    "\n",
    "conn.execute('DROP TABLE IF EXISTS Employement;')\n",
    "conn.execute('CREATE TABLE Employement (NAICS_Code VARCHAR(15) NOT NULL,Year INT,Month VARCHAR(3),Num_Employees FLOAT);')\n",
    "\n",
    "conn.execute('DROP TABLE IF EXISTS Sales;')\n",
    "conn.execute('CREATE TABLE Sales (NAICS_Code VARCHAR(15) NOT NULL,Year INT,Month VARCHAR(3),Total_Sales FLOAT);')\n",
    "\n",
    "session.commit()"
   ]
  },
  {
   "cell_type": "code",
   "execution_count": 5,
   "metadata": {},
   "outputs": [],
   "source": [
    "naics = pd.read_csv('naics.csv')\n",
    "naics.to_sql('NAICS_Info', con=engine, if_exists='append', index = False, index_label=None)\n",
    "session.commit()\n",
    "Base.metadata.create_all(conn)"
   ]
  },
  {
   "cell_type": "code",
   "execution_count": 6,
   "metadata": {},
   "outputs": [
    {
     "data": {
      "text/html": [
       "<div>\n",
       "<style scoped>\n",
       "    .dataframe tbody tr th:only-of-type {\n",
       "        vertical-align: middle;\n",
       "    }\n",
       "\n",
       "    .dataframe tbody tr th {\n",
       "        vertical-align: top;\n",
       "    }\n",
       "\n",
       "    .dataframe thead th {\n",
       "        text-align: right;\n",
       "    }\n",
       "</style>\n",
       "<table border=\"1\" class=\"dataframe\">\n",
       "  <thead>\n",
       "    <tr style=\"text-align: right;\">\n",
       "      <th></th>\n",
       "      <th>NAICS_Code</th>\n",
       "      <th>Industry_Title</th>\n",
       "      <th>Num_Businesses</th>\n",
       "    </tr>\n",
       "  </thead>\n",
       "  <tbody>\n",
       "    <tr>\n",
       "      <th>0</th>\n",
       "      <td>11</td>\n",
       "      <td>Agriculture, Forestry, Fishing and Hunting</td>\n",
       "      <td>350038</td>\n",
       "    </tr>\n",
       "    <tr>\n",
       "      <th>1</th>\n",
       "      <td>1111</td>\n",
       "      <td>Oilseed and Grain Farming</td>\n",
       "      <td>55359</td>\n",
       "    </tr>\n",
       "    <tr>\n",
       "      <th>2</th>\n",
       "      <td>111110</td>\n",
       "      <td>Soybean Farming</td>\n",
       "      <td>4590</td>\n",
       "    </tr>\n",
       "    <tr>\n",
       "      <th>3</th>\n",
       "      <td>111120</td>\n",
       "      <td>Oilseed (except Soybean) Farming</td>\n",
       "      <td>154</td>\n",
       "    </tr>\n",
       "    <tr>\n",
       "      <th>4</th>\n",
       "      <td>111130</td>\n",
       "      <td>Dry Pea and Bean Farming</td>\n",
       "      <td>3430</td>\n",
       "    </tr>\n",
       "  </tbody>\n",
       "</table>\n",
       "</div>"
      ],
      "text/plain": [
       "  NAICS_Code                              Industry_Title  Num_Businesses\n",
       "0         11  Agriculture, Forestry, Fishing and Hunting          350038\n",
       "1       1111                   Oilseed and Grain Farming           55359\n",
       "2     111110                             Soybean Farming            4590\n",
       "3     111120            Oilseed (except Soybean) Farming             154\n",
       "4     111130                    Dry Pea and Bean Farming            3430"
      ]
     },
     "execution_count": 6,
     "metadata": {},
     "output_type": "execute_result"
    }
   ],
   "source": [
    "test = pd.read_sql(\"SELECT * FROM NAICS_Info\", engine)\n",
    "test_df = pd.DataFrame(test)\n",
    "test_df.head()"
   ]
  },
  {
   "cell_type": "code",
   "execution_count": 7,
   "metadata": {},
   "outputs": [],
   "source": [
    "emp = pd.read_csv('final_emp_data.csv')\n",
    "emp.to_sql('Employement', con=engine, if_exists='append', index = False, index_label=None)\n",
    "session.commit()\n",
    "Base.metadata.create_all(conn)"
   ]
  },
  {
   "cell_type": "code",
   "execution_count": 8,
   "metadata": {},
   "outputs": [
    {
     "data": {
      "text/html": [
       "<div>\n",
       "<style scoped>\n",
       "    .dataframe tbody tr th:only-of-type {\n",
       "        vertical-align: middle;\n",
       "    }\n",
       "\n",
       "    .dataframe tbody tr th {\n",
       "        vertical-align: top;\n",
       "    }\n",
       "\n",
       "    .dataframe thead th {\n",
       "        text-align: right;\n",
       "    }\n",
       "</style>\n",
       "<table border=\"1\" class=\"dataframe\">\n",
       "  <thead>\n",
       "    <tr style=\"text-align: right;\">\n",
       "      <th></th>\n",
       "      <th>NAICS_Code</th>\n",
       "      <th>Year</th>\n",
       "      <th>Month</th>\n",
       "      <th>Num_Employees</th>\n",
       "    </tr>\n",
       "  </thead>\n",
       "  <tbody>\n",
       "    <tr>\n",
       "      <th>0</th>\n",
       "      <td>441</td>\n",
       "      <td>2009</td>\n",
       "      <td>Jan</td>\n",
       "      <td>1368.9</td>\n",
       "    </tr>\n",
       "    <tr>\n",
       "      <th>1</th>\n",
       "      <td>441</td>\n",
       "      <td>2010</td>\n",
       "      <td>Jan</td>\n",
       "      <td>1301.6</td>\n",
       "    </tr>\n",
       "    <tr>\n",
       "      <th>2</th>\n",
       "      <td>441</td>\n",
       "      <td>2011</td>\n",
       "      <td>Jan</td>\n",
       "      <td>1344.5</td>\n",
       "    </tr>\n",
       "    <tr>\n",
       "      <th>3</th>\n",
       "      <td>441</td>\n",
       "      <td>2012</td>\n",
       "      <td>Jan</td>\n",
       "      <td>1384.4</td>\n",
       "    </tr>\n",
       "    <tr>\n",
       "      <th>4</th>\n",
       "      <td>441</td>\n",
       "      <td>2013</td>\n",
       "      <td>Jan</td>\n",
       "      <td>1428.5</td>\n",
       "    </tr>\n",
       "  </tbody>\n",
       "</table>\n",
       "</div>"
      ],
      "text/plain": [
       "  NAICS_Code  Year Month  Num_Employees\n",
       "0        441  2009   Jan         1368.9\n",
       "1        441  2010   Jan         1301.6\n",
       "2        441  2011   Jan         1344.5\n",
       "3        441  2012   Jan         1384.4\n",
       "4        441  2013   Jan         1428.5"
      ]
     },
     "execution_count": 8,
     "metadata": {},
     "output_type": "execute_result"
    }
   ],
   "source": [
    "test2 = pd.read_sql(\"SELECT * FROM Employement\", engine)\n",
    "test2_df = pd.DataFrame(test2)\n",
    "test2_df.head()"
   ]
  },
  {
   "cell_type": "code",
   "execution_count": 9,
   "metadata": {},
   "outputs": [],
   "source": [
    "sales_data = pd.read_csv('sales_data.csv')\n",
    "sales_data.to_sql('Sales', con=engine, if_exists='append', index = False, index_label=None)\n",
    "session.commit()\n",
    "Base.metadata.create_all(conn)"
   ]
  },
  {
   "cell_type": "code",
   "execution_count": 10,
   "metadata": {},
   "outputs": [
    {
     "data": {
      "text/html": [
       "<div>\n",
       "<style scoped>\n",
       "    .dataframe tbody tr th:only-of-type {\n",
       "        vertical-align: middle;\n",
       "    }\n",
       "\n",
       "    .dataframe tbody tr th {\n",
       "        vertical-align: top;\n",
       "    }\n",
       "\n",
       "    .dataframe thead th {\n",
       "        text-align: right;\n",
       "    }\n",
       "</style>\n",
       "<table border=\"1\" class=\"dataframe\">\n",
       "  <thead>\n",
       "    <tr style=\"text-align: right;\">\n",
       "      <th></th>\n",
       "      <th>NAICS_Code</th>\n",
       "      <th>Year</th>\n",
       "      <th>Month</th>\n",
       "      <th>Total_Sales</th>\n",
       "    </tr>\n",
       "  </thead>\n",
       "  <tbody>\n",
       "    <tr>\n",
       "      <th>0</th>\n",
       "      <td>441</td>\n",
       "      <td>2018</td>\n",
       "      <td>Jan</td>\n",
       "      <td>87735.0</td>\n",
       "    </tr>\n",
       "    <tr>\n",
       "      <th>1</th>\n",
       "      <td>4411,4412</td>\n",
       "      <td>2018</td>\n",
       "      <td>Jan</td>\n",
       "      <td>80723.0</td>\n",
       "    </tr>\n",
       "    <tr>\n",
       "      <th>2</th>\n",
       "      <td>4411</td>\n",
       "      <td>2018</td>\n",
       "      <td>Jan</td>\n",
       "      <td>76671.0</td>\n",
       "    </tr>\n",
       "    <tr>\n",
       "      <th>3</th>\n",
       "      <td>44111</td>\n",
       "      <td>2018</td>\n",
       "      <td>Jan</td>\n",
       "      <td>67953.0</td>\n",
       "    </tr>\n",
       "    <tr>\n",
       "      <th>4</th>\n",
       "      <td>44112</td>\n",
       "      <td>2018</td>\n",
       "      <td>Jan</td>\n",
       "      <td>8718.0</td>\n",
       "    </tr>\n",
       "  </tbody>\n",
       "</table>\n",
       "</div>"
      ],
      "text/plain": [
       "  NAICS_Code  Year Month  Total_Sales\n",
       "0        441  2018   Jan      87735.0\n",
       "1  4411,4412  2018   Jan      80723.0\n",
       "2       4411  2018   Jan      76671.0\n",
       "3      44111  2018   Jan      67953.0\n",
       "4      44112  2018   Jan       8718.0"
      ]
     },
     "execution_count": 10,
     "metadata": {},
     "output_type": "execute_result"
    }
   ],
   "source": [
    "test3 = pd.read_sql(\"SELECT * FROM Sales\", engine)\n",
    "test3_df = pd.DataFrame(test3)\n",
    "test3_df.head()"
   ]
  },
  {
   "cell_type": "code",
   "execution_count": 11,
   "metadata": {},
   "outputs": [],
   "source": [
    "session.commit()"
   ]
  },
  {
   "cell_type": "code",
   "execution_count": 12,
   "metadata": {},
   "outputs": [],
   "source": [
    "session.close()"
   ]
  },
  {
   "cell_type": "code",
   "execution_count": 13,
   "metadata": {},
   "outputs": [],
   "source": [
    "conn.close()"
   ]
  },
  {
   "cell_type": "code",
   "execution_count": null,
   "metadata": {},
   "outputs": [],
   "source": []
  }
 ],
 "metadata": {
  "kernelspec": {
   "display_name": "Python 3",
   "language": "python",
   "name": "python3"
  },
  "language_info": {
   "codemirror_mode": {
    "name": "ipython",
    "version": 3
   },
   "file_extension": ".py",
   "mimetype": "text/x-python",
   "name": "python",
   "nbconvert_exporter": "python",
   "pygments_lexer": "ipython3",
   "version": "3.7.3"
  }
 },
 "nbformat": 4,
 "nbformat_minor": 2
}
